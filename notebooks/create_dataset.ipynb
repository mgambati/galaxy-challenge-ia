{
 "cells": [
  {
   "cell_type": "markdown",
   "source": [
    "# Classificação morfológica de galáxias"
   ],
   "metadata": {
    "collapsed": false
   }
  },
  {
   "cell_type": "code",
   "execution_count": 34,
   "outputs": [],
   "source": [
    "from string import Template\n",
    "from kaggle import api as kaggle_api\n",
    "from zipfile import ZipFile\n",
    "from os import path, mkdir\n",
    "import pandas as pd\n",
    "from shutil import copy"
   ],
   "metadata": {
    "collapsed": false,
    "pycharm": {
     "name": "#%% Imports\n",
     "is_executing": false
    }
   }
  },
  {
   "cell_type": "markdown",
   "source": [
    "### Download do dataset"
   ],
   "metadata": {
    "collapsed": false
   }
  },
  {
   "cell_type": "code",
   "execution_count": 35,
   "outputs": [
    {
     "name": "stdout",
     "text": [
      "images_training_rev1.zip: Skipping, found more recently modified local copy (use --force to force download)",
      "\n",
      "training_solutions_rev1.zip: Skipping, found more recently modified local copy (use --force to force download)",
      "\n"
     ],
     "output_type": "stream"
    }
   ],
   "source": [
    "competition = 'galaxy-zoo-the-galaxy-challenge'\n",
    "data_path = './data/downloads/'\n",
    "\n",
    "kaggle_api.authenticate()\n",
    "\n",
    "kaggle_api.competition_download_file(file_name='images_training_rev1', competition=competition, path=data_path)\n",
    "kaggle_api.competition_download_file(file_name='training_solutions_rev1', competition=competition, path=data_path)"
   ],
   "metadata": {
    "collapsed": false,
    "pycharm": {
     "name": "#%% Download Dataset\n",
     "is_executing": false
    }
   }
  },
  {
   "cell_type": "markdown",
   "source": [
    "### Unzip do dataset"
   ],
   "metadata": {
    "collapsed": false,
    "pycharm": {
     "name": "#%% md\n"
    }
   }
  },
  {
   "cell_type": "code",
   "execution_count": 36,
   "outputs": [],
   "source": [
    "if path.isdir('./data/downloads/images_training_rev1') is False:\n",
    "    ZipFile('./data/downloads/images_training_rev1.zip').extractall('./data/downloads')\n",
    "\n",
    "if path.isfile('./data/downloads/training_solutions_rev1.csv') is False:\n",
    "    ZipFile('./data/downloads/training_solutions_rev1.zip').extract('training_solutions_rev1.csv', './data/downloads')"
   ],
   "metadata": {
    "collapsed": false,
    "pycharm": {
     "name": "#%% Unzip dataset\n",
     "is_executing": false
    }
   }
  },
  {
   "cell_type": "markdown",
   "source": [
    "## Separar galáxias por classe\n",
    "\n",
    " Para a classificação das galáxias, o dataset fornecido pelo galaxy challenge vem com 37 classes.\n",
    " \n",
    " Para dimunir a quantidade classes, filtramos as classes que desejamos e e copiamos cada classe par\n",
    " sua devida pasta. Usaremos imagens apenas com indices de respostas maiores de 90%.\n",
    "- completely-rounded: Class7.1\n",
    "- in-between: 7.2\n",
    "- cigar-shaped: Class7.3\n",
    "- on-edge: Class2.1\n",
    "- spiral-barred: Class3.1 && Class4.1\n",
    "- spiral: Class3.2 && Class4.1\n",
    " \n",
    "### Carregar dados das galáxias e ajustar DataFrames para filtrar"
   ],
   "metadata": {
    "collapsed": false,
    "pycharm": {
     "name": "#%% md\n"
    }
   }
  },
  {
   "cell_type": "code",
   "execution_count": 37,
   "outputs": [
    {
     "data": {
      "text/plain": "  GalaxyID  completely_round  in_between  cigar_shaped   on_edge  \\\n0   100008          0.201463    0.181684      0.000000  0.000000   \n1   100023          0.000000    0.135082      0.191919  0.031178   \n2   100053          0.000000    0.741864      0.023853  0.000000   \n3   100078          0.408599    0.284778      0.000000  0.000000   \n4   100090          0.494587    0.439252      0.000000  0.000000   \n5   100122          0.066807    0.663691      0.008335  0.000000   \n6   100123          0.388158    0.074334      0.000000  0.000000   \n7   100128          0.482483    0.205300      0.000000  0.000000   \n8   100134          0.010917    0.010917      0.000000  0.021751   \n9   100143          0.000000    0.000000      0.269843  0.730157   \n\n   has_signs_of_spiral  spiral_barred    spiral  \n0             0.418398       0.038452  0.578401  \n1             0.591328       0.467370  0.165229  \n2             0.000000       0.000000  0.177352  \n3             0.189098       0.109493  0.129071  \n4             0.000000       0.000000  0.000000  \n5             0.000000       0.000000  0.238159  \n6             0.000000       0.000000  0.456033  \n7             0.000000       0.069098  0.219246  \n8             0.546491       0.313077  0.642124  \n9             0.000000       0.000000  0.000000  ",
      "text/html": "<div>\n<style scoped>\n    .dataframe tbody tr th:only-of-type {\n        vertical-align: middle;\n    }\n\n    .dataframe tbody tr th {\n        vertical-align: top;\n    }\n\n    .dataframe thead th {\n        text-align: right;\n    }\n</style>\n<table border=\"1\" class=\"dataframe\">\n  <thead>\n    <tr style=\"text-align: right;\">\n      <th></th>\n      <th>GalaxyID</th>\n      <th>completely_round</th>\n      <th>in_between</th>\n      <th>cigar_shaped</th>\n      <th>on_edge</th>\n      <th>has_signs_of_spiral</th>\n      <th>spiral_barred</th>\n      <th>spiral</th>\n    </tr>\n  </thead>\n  <tbody>\n    <tr>\n      <th>0</th>\n      <td>100008</td>\n      <td>0.201463</td>\n      <td>0.181684</td>\n      <td>0.000000</td>\n      <td>0.000000</td>\n      <td>0.418398</td>\n      <td>0.038452</td>\n      <td>0.578401</td>\n    </tr>\n    <tr>\n      <th>1</th>\n      <td>100023</td>\n      <td>0.000000</td>\n      <td>0.135082</td>\n      <td>0.191919</td>\n      <td>0.031178</td>\n      <td>0.591328</td>\n      <td>0.467370</td>\n      <td>0.165229</td>\n    </tr>\n    <tr>\n      <th>2</th>\n      <td>100053</td>\n      <td>0.000000</td>\n      <td>0.741864</td>\n      <td>0.023853</td>\n      <td>0.000000</td>\n      <td>0.000000</td>\n      <td>0.000000</td>\n      <td>0.177352</td>\n    </tr>\n    <tr>\n      <th>3</th>\n      <td>100078</td>\n      <td>0.408599</td>\n      <td>0.284778</td>\n      <td>0.000000</td>\n      <td>0.000000</td>\n      <td>0.189098</td>\n      <td>0.109493</td>\n      <td>0.129071</td>\n    </tr>\n    <tr>\n      <th>4</th>\n      <td>100090</td>\n      <td>0.494587</td>\n      <td>0.439252</td>\n      <td>0.000000</td>\n      <td>0.000000</td>\n      <td>0.000000</td>\n      <td>0.000000</td>\n      <td>0.000000</td>\n    </tr>\n    <tr>\n      <th>5</th>\n      <td>100122</td>\n      <td>0.066807</td>\n      <td>0.663691</td>\n      <td>0.008335</td>\n      <td>0.000000</td>\n      <td>0.000000</td>\n      <td>0.000000</td>\n      <td>0.238159</td>\n    </tr>\n    <tr>\n      <th>6</th>\n      <td>100123</td>\n      <td>0.388158</td>\n      <td>0.074334</td>\n      <td>0.000000</td>\n      <td>0.000000</td>\n      <td>0.000000</td>\n      <td>0.000000</td>\n      <td>0.456033</td>\n    </tr>\n    <tr>\n      <th>7</th>\n      <td>100128</td>\n      <td>0.482483</td>\n      <td>0.205300</td>\n      <td>0.000000</td>\n      <td>0.000000</td>\n      <td>0.000000</td>\n      <td>0.069098</td>\n      <td>0.219246</td>\n    </tr>\n    <tr>\n      <th>8</th>\n      <td>100134</td>\n      <td>0.010917</td>\n      <td>0.010917</td>\n      <td>0.000000</td>\n      <td>0.021751</td>\n      <td>0.546491</td>\n      <td>0.313077</td>\n      <td>0.642124</td>\n    </tr>\n    <tr>\n      <th>9</th>\n      <td>100143</td>\n      <td>0.000000</td>\n      <td>0.000000</td>\n      <td>0.269843</td>\n      <td>0.730157</td>\n      <td>0.000000</td>\n      <td>0.000000</td>\n      <td>0.000000</td>\n    </tr>\n  </tbody>\n</table>\n</div>"
     },
     "metadata": {},
     "output_type": "execute_result",
     "execution_count": 37
    }
   ],
   "source": [
    "original_training_data = pd.read_csv('./data/downloads/training_solutions_rev1.csv')\n",
    "\n",
    "# Pandas coloca o galaxyID como float, convertemos novamente para string.\n",
    "original_training_data['GalaxyID'] = original_training_data['GalaxyID'].astype(str)\n",
    "\n",
    "columns_mapper = {\n",
    "    'GalaxyID': 'GalaxyID',\n",
    "    'Class7.1': 'completely_round',\n",
    "    'Class7.2': 'in_between',\n",
    "    'Class7.3': 'cigar_shaped',\n",
    "    'Class2.1': 'on_edge',\n",
    "    'Class4.1': 'has_signs_of_spiral',\n",
    "    'Class3.1': 'spiral_barred',\n",
    "    'Class3.2': 'spiral'\n",
    "}\n",
    "columns = list(columns_mapper.values())\n",
    "training_df = original_training_data.rename(columns=columns_mapper)[columns]\n",
    "training_df.head(10)"
   ],
   "metadata": {
    "collapsed": false,
    "pycharm": {
     "name": "#%% Create Base DataFrame for filtering images for each class\n",
     "is_executing": false
    }
   }
  },
  {
   "cell_type": "markdown",
   "source": [
    "#### Criar DataFrames para cada classe"
   ],
   "metadata": {
    "collapsed": false,
    "pycharm": {
     "name": "#%% md\n"
    }
   }
  },
  {
   "cell_type": "code",
   "execution_count": 38,
   "outputs": [],
   "source": [
    "# Filters\n",
    "has_sign_of_spiral = training_df['has_signs_of_spiral'] >= 0.75 # filter\n",
    "\n",
    "# DataFrames of each class\n",
    "completely_round_df = training_df[training_df['completely_round'] >= 0.65]\n",
    "\n",
    "in_between_df = training_df[training_df['in_between'] >= 0.65]\n",
    "cigar_shaped_df = training_df[training_df['cigar_shaped'] >= 0.65]\n",
    "on_edge_df = training_df[training_df['on_edge'] >= 0.75]\n",
    "spiral_barred_df = training_df[(training_df['spiral_barred'] >= 0.75) & has_sign_of_spiral]\n",
    "spiral_df = training_df[(training_df['spiral'] >= 0.75) & has_sign_of_spiral]"
   ],
   "metadata": {
    "collapsed": false,
    "pycharm": {
     "name": "#%% Create DataFrames for each class\n",
     "is_executing": false
    }
   }
  },
  {
   "cell_type": "markdown",
   "source": [
    "### Copiar arquivos para as devidas pastas"
   ],
   "metadata": {
    "collapsed": false,
    "pycharm": {
     "name": "#%% md\n"
    }
   }
  },
  {
   "cell_type": "code",
   "execution_count": 39,
   "outputs": [],
   "source": [
    "if path.isdir('./data/training') is False:\n",
    "    mkdir('./data/training')\n",
    "\n",
    "def copy_images(df, dest):\n",
    "    src_path = Template('./data/downloads/images_training_rev1/$name.jpg')\n",
    "    dest_path = Template('./data/training/$folder/').substitute(folder=dest)\n",
    "\n",
    "    if path.isdir(dest_path) is True:\n",
    "        return\n",
    "\n",
    "    mkdir(dest_path)\n",
    "    for index, image in df.iterrows():\n",
    "        copy(src_path.substitute(name=image['GalaxyID']), dest_path)\n",
    "\n",
    "copy_images(completely_round_df, 'completely_round')\n",
    "copy_images(in_between_df, 'in_between')\n",
    "copy_images(cigar_shaped_df, 'cigar_shaped')\n",
    "copy_images(on_edge_df, 'on_edge')\n",
    "copy_images(spiral_barred_df, 'spiral_barred')\n",
    "copy_images(spiral_df, 'spiral')"
   ],
   "metadata": {
    "collapsed": false,
    "pycharm": {
     "name": "#%% Copy files based on class\n",
     "is_executing": false
    }
   }
  }
 ],
 "metadata": {
  "language_info": {
   "codemirror_mode": {
    "name": "ipython",
    "version": 2
   },
   "file_extension": ".py",
   "mimetype": "text/x-python",
   "name": "python",
   "nbconvert_exporter": "python",
   "pygments_lexer": "ipython2",
   "version": "2.7.6"
  },
  "kernelspec": {
   "name": "python3",
   "language": "python",
   "display_name": "Python 3"
  },
  "pycharm": {
   "stem_cell": {
    "cell_type": "raw",
    "source": [],
    "metadata": {
     "collapsed": false
    }
   }
  }
 },
 "nbformat": 4,
 "nbformat_minor": 0
}